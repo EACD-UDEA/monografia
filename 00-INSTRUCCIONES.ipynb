{
 "cells": [
  {
   "cell_type": "markdown",
   "metadata": {},
   "source": [
    "# EN LA PREDICCIÓN DE LA MERMA DE DEFECTOS EN CULTIVOS DE BANANO"
   ]
  },
  {
   "cell_type": "markdown",
   "metadata": {},
   "source": [
    "Sebastian Monsalve Solis  \n",
    "CC 1128273363  \n",
    "e-mail: sebastian.monsalves@udea.edu.co"
   ]
  },
  {
   "cell_type": "markdown",
   "metadata": {},
   "source": [
    "# Dependencias\n",
    "\n",
    "1. Instalar python versión 3.7\n",
    "2. Instalar las librerias necesaria para ejecutar los notebooks\n",
    "\n",
    "```\n",
    "pip install -r requirements.txt\n",
    "```\n"
   ]
  },
  {
   "cell_type": "markdown",
   "metadata": {},
   "source": [
    "# NOTEBOOKS"
   ]
  },
  {
   "cell_type": "markdown",
   "metadata": {},
   "source": [
    "## 01-agricultura_de_precision_EDA\n",
    "\n",
    "Notbook que contiene el analsis exploratorio de los datos, donde se describen los datos que se usaran para el posterior modelamiento"
   ]
  },
  {
   "cell_type": "markdown",
   "metadata": {},
   "source": [
    "## 02-agricultura_de_precision_MODEL\n",
    "\n",
    "Notebook que contienes las fases de preparación de los datos, modelado y evaluación de los diversos modelos probados para lograr la mejor predicción de la variable objetivo"
   ]
  }
 ],
 "metadata": {
  "kernelspec": {
   "display_name": "Python 3",
   "language": "python",
   "name": "python3"
  },
  "language_info": {
   "codemirror_mode": {
    "name": "ipython",
    "version": 3
   },
   "file_extension": ".py",
   "mimetype": "text/x-python",
   "name": "python",
   "nbconvert_exporter": "python",
   "pygments_lexer": "ipython3",
   "version": "3.7.6"
  }
 },
 "nbformat": 4,
 "nbformat_minor": 4
}
